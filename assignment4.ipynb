{
 "cells": [
  {
   "cell_type": "code",
   "execution_count": 1,
   "id": "584b5779",
   "metadata": {},
   "outputs": [
    {
     "name": "stdout",
     "output_type": "stream",
     "text": [
      "6.0\n"
     ]
    }
   ],
   "source": [
    "\"\"\"1.1 Write a Python Program(with class concepts) to find the area of the triangle using the below\n",
    "formula.\n",
    "area = (s*(s-a)*(s-b)*(s-c)) ** 0.5\"\"\"\n",
    "class A():\n",
    "    def __init__(self,a,b,c):\n",
    "        self.a=a\n",
    "        self.b=b\n",
    "        self.c=c\n",
    "class B(A):\n",
    "    def __init__(self,a,b,c):\n",
    "        A.__init__(self,a,b,c)\n",
    "    def area(self):\n",
    "        s=(self.a+self.b+self.c)/2\n",
    "        area=(s*(s-self.a)*(s-self.b)*(s-self.c))**0.5\n",
    "        print(area)\n",
    "x=B(5,4,3)\n",
    "\n",
    "x.area()\n",
    "        \n",
    "    \n"
   ]
  },
  {
   "cell_type": "code",
   "execution_count": 4,
   "id": "bb9ba8ec",
   "metadata": {},
   "outputs": [
    {
     "name": "stdout",
     "output_type": "stream",
     "text": [
      "Enter number of words want to enter2\n",
      "nitin\n",
      "ver,a\n",
      "['nitin', 'ver,a']\n",
      "Enter number of words you need2\n",
      "['nitin', 'ver,a']\n"
     ]
    }
   ],
   "source": [
    "\"\"\"Write a function filter_long_words() that takes a list of words and an integer n and returns\n",
    "3the list of words that are longer than n.\"\"\"\n",
    "\n",
    "def filter_long_words():\n",
    "    a=int(input(\"Enter number of words want to enter\"))\n",
    "    b=[]\n",
    "    for x in range(a):\n",
    "        x=input()\n",
    "        b.append(x)\n",
    "    print(b)\n",
    "    c=int(input('Enter number of words you need'))\n",
    "    z=[]\n",
    "    for y in b:\n",
    "        if len(y)>c:\n",
    "            z.append(y)\n",
    "    print(z)\n",
    "            \n",
    "filter_long_words()"
   ]
  },
  {
   "cell_type": "code",
   "execution_count": null,
   "id": "e2bea0c2",
   "metadata": {},
   "outputs": [],
   "source": [
    "\"\"\"2.1 Write a Python program using function concept that maps list of words into a list of integers\n",
    "representing the lengths of the corresponding words.\"\"\"\n",
    "def a():\n",
    "    x=[]\n",
    "    n=int(input(\"Number of Strings\"))\n",
    "    for y in range(n):\n",
    "        y=input()\n",
    "        x.append(y)\n",
    "    print(x)\n",
    "    c=[]\n",
    "    for z in x:\n",
    "        a=len(z)\n",
    "        c.append(a)\n",
    "    print(c)\n",
    "a()\n",
    "        \n",
    "        "
   ]
  },
  {
   "cell_type": "code",
   "execution_count": null,
   "id": "fabf3e9b",
   "metadata": {},
   "outputs": [],
   "source": [
    "\"\"\"2.2 Write a Python function which takes a character (i.e. a string of length 1) and returns True if\n",
    "it is a vowel, False otherwise.\"\"\"\n",
    "def A():\n",
    "    x=input()\n",
    "    y=list(x)\n",
    "    print(y)\n",
    "    if ('a' in y) or ('e' in y) or ('i' in y) or ('o'in y) or ('u'in y) in y:\n",
    "        return True\n",
    "    else:\n",
    "        return False\n",
    "A()"
   ]
  },
  {
   "cell_type": "code",
   "execution_count": null,
   "id": "0e9dca61",
   "metadata": {},
   "outputs": [],
   "source": []
  }
 ],
 "metadata": {
  "kernelspec": {
   "display_name": "Python 3 (ipykernel)",
   "language": "python",
   "name": "python3"
  },
  "language_info": {
   "codemirror_mode": {
    "name": "ipython",
    "version": 3
   },
   "file_extension": ".py",
   "mimetype": "text/x-python",
   "name": "python",
   "nbconvert_exporter": "python",
   "pygments_lexer": "ipython3",
   "version": "3.9.7"
  }
 },
 "nbformat": 4,
 "nbformat_minor": 5
}
